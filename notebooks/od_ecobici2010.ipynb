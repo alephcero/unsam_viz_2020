{
 "cells": [
  {
   "cell_type": "code",
   "execution_count": null,
   "metadata": {},
   "outputs": [],
   "source": [
    "import pandas as pd\n",
    "import seaborn as sns"
   ]
  },
  {
   "cell_type": "code",
   "execution_count": null,
   "metadata": {},
   "outputs": [],
   "source": [
    "viajes = pd.read_csv('../data/recorridos-realizados-2019.csv',usecols = ['nombre_estacion_origen','nombre_estacion_destino'])\n",
    "viajes.head()"
   ]
  },
  {
   "cell_type": "code",
   "execution_count": null,
   "metadata": {},
   "outputs": [],
   "source": [
    "od = viajes.groupby(['nombre_estacion_origen','nombre_estacion_destino']).size().reset_index()\n",
    "od.columns = ['origen','destino','n']\n",
    "od = od.loc[od.origen!= od.destino,:]\n",
    "od.sort_values('n',ascending=False)\n",
    "od = od.sort_values('n',ascending=False)\n",
    "od = od.reset_index(drop=True)\n",
    "od.to_csv('../od_ecobici_2019.csv')\n",
    "od.head()"
   ]
  },
  {
   "cell_type": "code",
   "execution_count": null,
   "metadata": {},
   "outputs": [],
   "source": [
    "od_pivot = od.pivot(index='origen', columns='destino', values='n').fillna(0)\n",
    "g = sns.clustermap(od_pivot,cmap='Reds')"
   ]
  },
  {
   "cell_type": "code",
   "execution_count": null,
   "metadata": {},
   "outputs": [],
   "source": [
    "od_top100 = od.iloc[:100,:].copy()\n",
    "od_top100 = od_top100.pivot(index='origen', columns='destino', values='n').fillna(0)\n",
    "g = sns.clustermap(od_top100,cmap='Reds')"
   ]
  },
  {
   "cell_type": "code",
   "execution_count": null,
   "metadata": {},
   "outputs": [],
   "source": [
    "percentil = .5\n",
    "od['p'] = od['n']/od['n'].sum()\n",
    "od['p_cumsum'] = od['p'].cumsum()\n",
    "id_percentil = (od['p'].cumsum() - percentil).abs().idxmin()\n",
    "od = od.loc[:id_percentil]\n",
    "od = od.reindex(columns = ['origen','destino','n'])\n",
    "od = od.pivot(index='origen', columns='destino', values='n').fillna(0)\n",
    "g = sns.clustermap(od,cmap='Reds')"
   ]
  },
  {
   "cell_type": "code",
   "execution_count": null,
   "metadata": {},
   "outputs": [],
   "source": []
  },
  {
   "cell_type": "code",
   "execution_count": null,
   "metadata": {},
   "outputs": [],
   "source": []
  },
  {
   "cell_type": "code",
   "execution_count": null,
   "metadata": {},
   "outputs": [],
   "source": []
  },
  {
   "cell_type": "code",
   "execution_count": null,
   "metadata": {},
   "outputs": [],
   "source": []
  }
 ],
 "metadata": {
  "kernelspec": {
   "display_name": "Python 3",
   "language": "python",
   "name": "python3"
  },
  "language_info": {
   "codemirror_mode": {
    "name": "ipython",
    "version": 3
   },
   "file_extension": ".py",
   "mimetype": "text/x-python",
   "name": "python",
   "nbconvert_exporter": "python",
   "pygments_lexer": "ipython3",
   "version": "3.7.6"
  }
 },
 "nbformat": 4,
 "nbformat_minor": 4
}
