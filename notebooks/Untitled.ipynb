{
 "cells": [
  {
   "cell_type": "code",
   "execution_count": 1,
   "metadata": {},
   "outputs": [],
   "source": [
    "import pandas as pd"
   ]
  },
  {
   "cell_type": "code",
   "execution_count": 75,
   "metadata": {},
   "outputs": [
    {
     "data": {
      "text/html": [
       "<div>\n",
       "<style scoped>\n",
       "    .dataframe tbody tr th:only-of-type {\n",
       "        vertical-align: middle;\n",
       "    }\n",
       "\n",
       "    .dataframe tbody tr th {\n",
       "        vertical-align: top;\n",
       "    }\n",
       "\n",
       "    .dataframe thead th {\n",
       "        text-align: right;\n",
       "    }\n",
       "</style>\n",
       "<table border=\"1\" class=\"dataframe\">\n",
       "  <thead>\n",
       "    <tr style=\"text-align: right;\">\n",
       "      <th></th>\n",
       "      <th>id_usuario</th>\n",
       "      <th>fecha_origen_recorrido</th>\n",
       "      <th>duracion_recorrido</th>\n",
       "      <th>nombre_estacion_origen</th>\n",
       "      <th>id_estacion_origen</th>\n",
       "      <th>nombre_estacion_destino</th>\n",
       "      <th>id_estacion_destino</th>\n",
       "      <th>genero_usuario</th>\n",
       "      <th>edad_usuario</th>\n",
       "      <th>fecha_destino_recorrido</th>\n",
       "      <th>id_estacion</th>\n",
       "    </tr>\n",
       "  </thead>\n",
       "  <tbody>\n",
       "    <tr>\n",
       "      <th>0</th>\n",
       "      <td>5276</td>\n",
       "      <td>2019-05-30 17:24:55</td>\n",
       "      <td>0 days 00:03:36.000000000</td>\n",
       "      <td>189 - Posadas</td>\n",
       "      <td>189</td>\n",
       "      <td>001 - Facultad De Derecho</td>\n",
       "      <td>202</td>\n",
       "      <td>NaN</td>\n",
       "      <td>NaN</td>\n",
       "      <td>2019-05-30 17:28:31</td>\n",
       "      <td>189.0</td>\n",
       "    </tr>\n",
       "    <tr>\n",
       "      <th>1</th>\n",
       "      <td>313562</td>\n",
       "      <td>2019-07-31 20:34:55</td>\n",
       "      <td>0 days 00:22:48.000000000</td>\n",
       "      <td>225 - Hospital Tornu</td>\n",
       "      <td>428.0</td>\n",
       "      <td>207 - Plaza Arenales</td>\n",
       "      <td>336.0</td>\n",
       "      <td>NaN</td>\n",
       "      <td>NaN</td>\n",
       "      <td>2019-07-31 20:57:43</td>\n",
       "      <td>428.0</td>\n",
       "    </tr>\n",
       "    <tr>\n",
       "      <th>2</th>\n",
       "      <td>106940</td>\n",
       "      <td>2019-04-26 06:21:13</td>\n",
       "      <td>0 days 00:16:38.000000000</td>\n",
       "      <td>004 - Plaza Roma</td>\n",
       "      <td>4</td>\n",
       "      <td>096 - Carlos Gardel</td>\n",
       "      <td>96</td>\n",
       "      <td>NaN</td>\n",
       "      <td>NaN</td>\n",
       "      <td>2019-04-26 06:37:51</td>\n",
       "      <td>4.0</td>\n",
       "    </tr>\n",
       "    <tr>\n",
       "      <th>3</th>\n",
       "      <td>367354</td>\n",
       "      <td>2019-07-11 08:25:01</td>\n",
       "      <td>0 days 00:23:31.000000000</td>\n",
       "      <td>243 - Plazoleta Celedonio Flores</td>\n",
       "      <td>229.0</td>\n",
       "      <td>005 - Plaza Italia</td>\n",
       "      <td>5.0</td>\n",
       "      <td>NaN</td>\n",
       "      <td>NaN</td>\n",
       "      <td>2019-07-11 08:48:32</td>\n",
       "      <td>229.0</td>\n",
       "    </tr>\n",
       "    <tr>\n",
       "      <th>4</th>\n",
       "      <td>321077_0</td>\n",
       "      <td>2019-01-07 00:43:53</td>\n",
       "      <td>0 days 00:11:00.000000000</td>\n",
       "      <td>Padilla</td>\n",
       "      <td>31_0</td>\n",
       "      <td>Guayaquil</td>\n",
       "      <td>87_0</td>\n",
       "      <td>MASCULINO</td>\n",
       "      <td>26.0</td>\n",
       "      <td>2019-01-07 00:54:53</td>\n",
       "      <td>31.0</td>\n",
       "    </tr>\n",
       "  </tbody>\n",
       "</table>\n",
       "</div>"
      ],
      "text/plain": [
       "  id_usuario fecha_origen_recorrido         duracion_recorrido  \\\n",
       "0       5276    2019-05-30 17:24:55  0 days 00:03:36.000000000   \n",
       "1     313562    2019-07-31 20:34:55  0 days 00:22:48.000000000   \n",
       "2     106940    2019-04-26 06:21:13  0 days 00:16:38.000000000   \n",
       "3     367354    2019-07-11 08:25:01  0 days 00:23:31.000000000   \n",
       "4   321077_0    2019-01-07 00:43:53  0 days 00:11:00.000000000   \n",
       "\n",
       "             nombre_estacion_origen id_estacion_origen  \\\n",
       "0                     189 - Posadas                189   \n",
       "1              225 - Hospital Tornu              428.0   \n",
       "2                  004 - Plaza Roma                  4   \n",
       "3  243 - Plazoleta Celedonio Flores              229.0   \n",
       "4                           Padilla               31_0   \n",
       "\n",
       "     nombre_estacion_destino id_estacion_destino genero_usuario  edad_usuario  \\\n",
       "0  001 - Facultad De Derecho                 202            NaN           NaN   \n",
       "1       207 - Plaza Arenales               336.0            NaN           NaN   \n",
       "2        096 - Carlos Gardel                  96            NaN           NaN   \n",
       "3         005 - Plaza Italia                 5.0            NaN           NaN   \n",
       "4                  Guayaquil                87_0      MASCULINO          26.0   \n",
       "\n",
       "  fecha_destino_recorrido  id_estacion  \n",
       "0     2019-05-30 17:28:31        189.0  \n",
       "1     2019-07-31 20:57:43        428.0  \n",
       "2     2019-04-26 06:37:51          4.0  \n",
       "3     2019-07-11 08:48:32        229.0  \n",
       "4     2019-01-07 00:54:53         31.0  "
      ]
     },
     "execution_count": 75,
     "metadata": {},
     "output_type": "execute_result"
    }
   ],
   "source": [
    "viajes = pd.read_csv('../data/recorridos-realizados-2019_muestra.csv')\n",
    "viajes['id_estacion'] = pd.to_numeric(viajes.id_estacion_origen\\\n",
    "                                     .str.replace('_','.'))\n",
    "viajes.head()"
   ]
  },
  {
   "cell_type": "code",
   "execution_count": 76,
   "metadata": {},
   "outputs": [
    {
     "data": {
      "text/html": [
       "<div>\n",
       "<style scoped>\n",
       "    .dataframe tbody tr th:only-of-type {\n",
       "        vertical-align: middle;\n",
       "    }\n",
       "\n",
       "    .dataframe tbody tr th {\n",
       "        vertical-align: top;\n",
       "    }\n",
       "\n",
       "    .dataframe thead th {\n",
       "        text-align: right;\n",
       "    }\n",
       "</style>\n",
       "<table border=\"1\" class=\"dataframe\">\n",
       "  <thead>\n",
       "    <tr style=\"text-align: right;\">\n",
       "      <th></th>\n",
       "      <th>id_estacion</th>\n",
       "      <th>n_viajes</th>\n",
       "    </tr>\n",
       "  </thead>\n",
       "  <tbody>\n",
       "    <tr>\n",
       "      <th>0</th>\n",
       "      <td>1.0</td>\n",
       "      <td>4</td>\n",
       "    </tr>\n",
       "    <tr>\n",
       "      <th>1</th>\n",
       "      <td>2.0</td>\n",
       "      <td>66</td>\n",
       "    </tr>\n",
       "    <tr>\n",
       "      <th>2</th>\n",
       "      <td>3.0</td>\n",
       "      <td>18</td>\n",
       "    </tr>\n",
       "    <tr>\n",
       "      <th>3</th>\n",
       "      <td>4.0</td>\n",
       "      <td>40</td>\n",
       "    </tr>\n",
       "    <tr>\n",
       "      <th>4</th>\n",
       "      <td>5.0</td>\n",
       "      <td>87</td>\n",
       "    </tr>\n",
       "    <tr>\n",
       "      <th>...</th>\n",
       "      <td>...</td>\n",
       "      <td>...</td>\n",
       "    </tr>\n",
       "    <tr>\n",
       "      <th>417</th>\n",
       "      <td>442.0</td>\n",
       "      <td>4</td>\n",
       "    </tr>\n",
       "    <tr>\n",
       "      <th>418</th>\n",
       "      <td>443.0</td>\n",
       "      <td>13</td>\n",
       "    </tr>\n",
       "    <tr>\n",
       "      <th>419</th>\n",
       "      <td>444.0</td>\n",
       "      <td>47</td>\n",
       "    </tr>\n",
       "    <tr>\n",
       "      <th>420</th>\n",
       "      <td>448.0</td>\n",
       "      <td>2</td>\n",
       "    </tr>\n",
       "    <tr>\n",
       "      <th>421</th>\n",
       "      <td>449.0</td>\n",
       "      <td>17</td>\n",
       "    </tr>\n",
       "  </tbody>\n",
       "</table>\n",
       "<p>422 rows × 2 columns</p>\n",
       "</div>"
      ],
      "text/plain": [
       "     id_estacion  n_viajes\n",
       "0            1.0         4\n",
       "1            2.0        66\n",
       "2            3.0        18\n",
       "3            4.0        40\n",
       "4            5.0        87\n",
       "..           ...       ...\n",
       "417        442.0         4\n",
       "418        443.0        13\n",
       "419        444.0        47\n",
       "420        448.0         2\n",
       "421        449.0        17\n",
       "\n",
       "[422 rows x 2 columns]"
      ]
     },
     "execution_count": 76,
     "metadata": {},
     "output_type": "execute_result"
    }
   ],
   "source": [
    "tabla = viajes.groupby('id_estacion').size().reset_index()\n",
    "tabla = tabla.rename(columns = {'id_estacion':'id_estacion',\n",
    "                       0:'n_viajes'})\n",
    "tabla"
   ]
  },
  {
   "cell_type": "code",
   "execution_count": 77,
   "metadata": {},
   "outputs": [],
   "source": [
    "import geopandas as gpd"
   ]
  },
  {
   "cell_type": "code",
   "execution_count": 78,
   "metadata": {},
   "outputs": [
    {
     "data": {
      "text/html": [
       "<div>\n",
       "<style scoped>\n",
       "    .dataframe tbody tr th:only-of-type {\n",
       "        vertical-align: middle;\n",
       "    }\n",
       "\n",
       "    .dataframe tbody tr th {\n",
       "        vertical-align: top;\n",
       "    }\n",
       "\n",
       "    .dataframe thead th {\n",
       "        text-align: right;\n",
       "    }\n",
       "</style>\n",
       "<table border=\"1\" class=\"dataframe\">\n",
       "  <thead>\n",
       "    <tr style=\"text-align: right;\">\n",
       "      <th></th>\n",
       "      <th>lat</th>\n",
       "      <th>long</th>\n",
       "      <th>nombre_estacion</th>\n",
       "      <th>id_estacion</th>\n",
       "    </tr>\n",
       "  </thead>\n",
       "  <tbody>\n",
       "    <tr>\n",
       "      <th>0</th>\n",
       "      <td>-34.592423</td>\n",
       "      <td>-58.374715</td>\n",
       "      <td>002 - Retiro I</td>\n",
       "      <td>2</td>\n",
       "    </tr>\n",
       "    <tr>\n",
       "      <th>1</th>\n",
       "      <td>-34.611032</td>\n",
       "      <td>-58.368260</td>\n",
       "      <td>003 - ADUANA</td>\n",
       "      <td>3</td>\n",
       "    </tr>\n",
       "    <tr>\n",
       "      <th>2</th>\n",
       "      <td>-34.601726</td>\n",
       "      <td>-58.368763</td>\n",
       "      <td>004 - Plaza Roma</td>\n",
       "      <td>4</td>\n",
       "    </tr>\n",
       "    <tr>\n",
       "      <th>3</th>\n",
       "      <td>-34.580550</td>\n",
       "      <td>-58.420954</td>\n",
       "      <td>005 - Plaza Italia</td>\n",
       "      <td>5</td>\n",
       "    </tr>\n",
       "    <tr>\n",
       "      <th>4</th>\n",
       "      <td>-34.628526</td>\n",
       "      <td>-58.369758</td>\n",
       "      <td>006 - Parque Lezama</td>\n",
       "      <td>6</td>\n",
       "    </tr>\n",
       "  </tbody>\n",
       "</table>\n",
       "</div>"
      ],
      "text/plain": [
       "         lat       long      nombre_estacion  id_estacion\n",
       "0 -34.592423 -58.374715       002 - Retiro I            2\n",
       "1 -34.611032 -58.368260         003 - ADUANA            3\n",
       "2 -34.601726 -58.368763     004 - Plaza Roma            4\n",
       "3 -34.580550 -58.420954   005 - Plaza Italia            5\n",
       "4 -34.628526 -58.369758  006 - Parque Lezama            6"
      ]
     },
     "execution_count": 78,
     "metadata": {},
     "output_type": "execute_result"
    }
   ],
   "source": [
    "estaciones = pd.read_csv('../carto/estaciones-bicicletas.csv')\n",
    "estaciones = estaciones.reindex(columns = ['lat','long','nombre_estacion','id_estacion'])\n",
    "estaciones.head()"
   ]
  },
  {
   "cell_type": "code",
   "execution_count": 79,
   "metadata": {},
   "outputs": [],
   "source": [
    "from shapely.geometry import Point"
   ]
  },
  {
   "cell_type": "code",
   "execution_count": 80,
   "metadata": {},
   "outputs": [],
   "source": [
    "def crear_punto(lat,long):\n",
    "    return Point(long,lat)"
   ]
  },
  {
   "cell_type": "code",
   "execution_count": 81,
   "metadata": {},
   "outputs": [
    {
     "data": {
      "text/plain": [
       "-34.59242329999999"
      ]
     },
     "execution_count": 81,
     "metadata": {},
     "output_type": "execute_result"
    }
   ],
   "source": [
    "estaciones.lat.iloc[0]"
   ]
  },
  {
   "cell_type": "code",
   "execution_count": 82,
   "metadata": {},
   "outputs": [
    {
     "data": {
      "text/plain": [
       "-58.37471510000001"
      ]
     },
     "execution_count": 82,
     "metadata": {},
     "output_type": "execute_result"
    }
   ],
   "source": [
    "estaciones.long.iloc[0]"
   ]
  },
  {
   "cell_type": "code",
   "execution_count": 83,
   "metadata": {},
   "outputs": [
    {
     "data": {
      "text/html": [
       "<div>\n",
       "<style scoped>\n",
       "    .dataframe tbody tr th:only-of-type {\n",
       "        vertical-align: middle;\n",
       "    }\n",
       "\n",
       "    .dataframe tbody tr th {\n",
       "        vertical-align: top;\n",
       "    }\n",
       "\n",
       "    .dataframe thead th {\n",
       "        text-align: right;\n",
       "    }\n",
       "</style>\n",
       "<table border=\"1\" class=\"dataframe\">\n",
       "  <thead>\n",
       "    <tr style=\"text-align: right;\">\n",
       "      <th></th>\n",
       "      <th>lat</th>\n",
       "      <th>long</th>\n",
       "      <th>nombre_estacion</th>\n",
       "      <th>id_estacion</th>\n",
       "    </tr>\n",
       "  </thead>\n",
       "  <tbody>\n",
       "    <tr>\n",
       "      <th>0</th>\n",
       "      <td>-34.592423</td>\n",
       "      <td>-58.374715</td>\n",
       "      <td>002 - Retiro I</td>\n",
       "      <td>2</td>\n",
       "    </tr>\n",
       "    <tr>\n",
       "      <th>1</th>\n",
       "      <td>-34.611032</td>\n",
       "      <td>-58.368260</td>\n",
       "      <td>003 - ADUANA</td>\n",
       "      <td>3</td>\n",
       "    </tr>\n",
       "  </tbody>\n",
       "</table>\n",
       "</div>"
      ],
      "text/plain": [
       "         lat       long nombre_estacion  id_estacion\n",
       "0 -34.592423 -58.374715  002 - Retiro I            2\n",
       "1 -34.611032 -58.368260    003 - ADUANA            3"
      ]
     },
     "execution_count": 83,
     "metadata": {},
     "output_type": "execute_result"
    }
   ],
   "source": [
    "estaciones.head(2)"
   ]
  },
  {
   "cell_type": "code",
   "execution_count": 84,
   "metadata": {},
   "outputs": [
    {
     "data": {
      "image/svg+xml": [
       "<svg xmlns=\"http://www.w3.org/2000/svg\" xmlns:xlink=\"http://www.w3.org/1999/xlink\" width=\"100.0\" height=\"100.0\" viewBox=\"-59.44177560000001 -35.5798619 2.0 2.0\" preserveAspectRatio=\"xMinYMin meet\"><g transform=\"matrix(1,0,0,-1,0,-69.1597238)\"><circle cx=\"-58.44177560000001\" cy=\"-34.5798619\" r=\"0.06\" stroke=\"#555555\" stroke-width=\"0.02\" fill=\"#66cc99\" opacity=\"0.6\" /></g></svg>"
      ],
      "text/plain": [
       "<shapely.geometry.point.Point at 0x7f737a81eba8>"
      ]
     },
     "execution_count": 84,
     "metadata": {},
     "output_type": "execute_result"
    }
   ],
   "source": [
    "crear_punto(lat = estaciones.lat.loc[15],long=estaciones.long.loc[15])"
   ]
  },
  {
   "cell_type": "code",
   "execution_count": 85,
   "metadata": {},
   "outputs": [],
   "source": [
    "puntos = []\n",
    "for indice in estaciones.index:\n",
    "    punto = crear_punto(lat = estaciones.lat.loc[indice],\n",
    "                        long=estaciones.long.loc[indice])\n",
    "    puntos.append(punto)"
   ]
  },
  {
   "cell_type": "code",
   "execution_count": 86,
   "metadata": {},
   "outputs": [],
   "source": [
    "estaciones['geometry']=puntos"
   ]
  },
  {
   "cell_type": "code",
   "execution_count": 87,
   "metadata": {},
   "outputs": [
    {
     "data": {
      "text/html": [
       "<div>\n",
       "<style scoped>\n",
       "    .dataframe tbody tr th:only-of-type {\n",
       "        vertical-align: middle;\n",
       "    }\n",
       "\n",
       "    .dataframe tbody tr th {\n",
       "        vertical-align: top;\n",
       "    }\n",
       "\n",
       "    .dataframe thead th {\n",
       "        text-align: right;\n",
       "    }\n",
       "</style>\n",
       "<table border=\"1\" class=\"dataframe\">\n",
       "  <thead>\n",
       "    <tr style=\"text-align: right;\">\n",
       "      <th></th>\n",
       "      <th>lat</th>\n",
       "      <th>long</th>\n",
       "      <th>nombre_estacion</th>\n",
       "      <th>id_estacion</th>\n",
       "      <th>geometry</th>\n",
       "    </tr>\n",
       "  </thead>\n",
       "  <tbody>\n",
       "    <tr>\n",
       "      <th>0</th>\n",
       "      <td>-34.592423</td>\n",
       "      <td>-58.374715</td>\n",
       "      <td>002 - Retiro I</td>\n",
       "      <td>2</td>\n",
       "      <td>POINT (-58.37472 -34.59242)</td>\n",
       "    </tr>\n",
       "    <tr>\n",
       "      <th>1</th>\n",
       "      <td>-34.611032</td>\n",
       "      <td>-58.368260</td>\n",
       "      <td>003 - ADUANA</td>\n",
       "      <td>3</td>\n",
       "      <td>POINT (-58.36826 -34.61103)</td>\n",
       "    </tr>\n",
       "    <tr>\n",
       "      <th>2</th>\n",
       "      <td>-34.601726</td>\n",
       "      <td>-58.368763</td>\n",
       "      <td>004 - Plaza Roma</td>\n",
       "      <td>4</td>\n",
       "      <td>POINT (-58.36876 -34.60173)</td>\n",
       "    </tr>\n",
       "    <tr>\n",
       "      <th>3</th>\n",
       "      <td>-34.580550</td>\n",
       "      <td>-58.420954</td>\n",
       "      <td>005 - Plaza Italia</td>\n",
       "      <td>5</td>\n",
       "      <td>POINT (-58.42095 -34.58055)</td>\n",
       "    </tr>\n",
       "    <tr>\n",
       "      <th>4</th>\n",
       "      <td>-34.628526</td>\n",
       "      <td>-58.369758</td>\n",
       "      <td>006 - Parque Lezama</td>\n",
       "      <td>6</td>\n",
       "      <td>POINT (-58.36976 -34.62853)</td>\n",
       "    </tr>\n",
       "  </tbody>\n",
       "</table>\n",
       "</div>"
      ],
      "text/plain": [
       "         lat       long      nombre_estacion  id_estacion  \\\n",
       "0 -34.592423 -58.374715       002 - Retiro I            2   \n",
       "1 -34.611032 -58.368260         003 - ADUANA            3   \n",
       "2 -34.601726 -58.368763     004 - Plaza Roma            4   \n",
       "3 -34.580550 -58.420954   005 - Plaza Italia            5   \n",
       "4 -34.628526 -58.369758  006 - Parque Lezama            6   \n",
       "\n",
       "                      geometry  \n",
       "0  POINT (-58.37472 -34.59242)  \n",
       "1  POINT (-58.36826 -34.61103)  \n",
       "2  POINT (-58.36876 -34.60173)  \n",
       "3  POINT (-58.42095 -34.58055)  \n",
       "4  POINT (-58.36976 -34.62853)  "
      ]
     },
     "execution_count": 87,
     "metadata": {},
     "output_type": "execute_result"
    }
   ],
   "source": [
    "#lo convertimos en GeoDataFrame indicando que columnas almacena los objetos geograficos\n",
    "#y en queproyeccion estaban originalmente\n",
    "estaciones_geo = gpd.GeoDataFrame(estaciones, geometry='geometry',crs={'init' :'epsg:4326'})\n",
    "estaciones_geo.head()"
   ]
  },
  {
   "cell_type": "code",
   "execution_count": 88,
   "metadata": {},
   "outputs": [],
   "source": [
    "import matplotlib.pyplot as plt\n",
    "%matplotlib inline"
   ]
  },
  {
   "cell_type": "code",
   "execution_count": 89,
   "metadata": {},
   "outputs": [
    {
     "data": {
      "text/html": [
       "<div>\n",
       "<style scoped>\n",
       "    .dataframe tbody tr th:only-of-type {\n",
       "        vertical-align: middle;\n",
       "    }\n",
       "\n",
       "    .dataframe tbody tr th {\n",
       "        vertical-align: top;\n",
       "    }\n",
       "\n",
       "    .dataframe thead th {\n",
       "        text-align: right;\n",
       "    }\n",
       "</style>\n",
       "<table border=\"1\" class=\"dataframe\">\n",
       "  <thead>\n",
       "    <tr style=\"text-align: right;\">\n",
       "      <th></th>\n",
       "      <th>lat</th>\n",
       "      <th>long</th>\n",
       "      <th>nombre_estacion</th>\n",
       "      <th>id_estacion</th>\n",
       "      <th>geometry</th>\n",
       "    </tr>\n",
       "  </thead>\n",
       "  <tbody>\n",
       "    <tr>\n",
       "      <th>0</th>\n",
       "      <td>-34.592423</td>\n",
       "      <td>-58.374715</td>\n",
       "      <td>002 - Retiro I</td>\n",
       "      <td>2</td>\n",
       "      <td>POINT (-58.37472 -34.59242)</td>\n",
       "    </tr>\n",
       "    <tr>\n",
       "      <th>1</th>\n",
       "      <td>-34.611032</td>\n",
       "      <td>-58.368260</td>\n",
       "      <td>003 - ADUANA</td>\n",
       "      <td>3</td>\n",
       "      <td>POINT (-58.36826 -34.61103)</td>\n",
       "    </tr>\n",
       "  </tbody>\n",
       "</table>\n",
       "</div>"
      ],
      "text/plain": [
       "         lat       long nombre_estacion  id_estacion  \\\n",
       "0 -34.592423 -58.374715  002 - Retiro I            2   \n",
       "1 -34.611032 -58.368260    003 - ADUANA            3   \n",
       "\n",
       "                      geometry  \n",
       "0  POINT (-58.37472 -34.59242)  \n",
       "1  POINT (-58.36826 -34.61103)  "
      ]
     },
     "execution_count": 89,
     "metadata": {},
     "output_type": "execute_result"
    }
   ],
   "source": [
    "estaciones_geo.head(2)"
   ]
  },
  {
   "cell_type": "code",
   "execution_count": 90,
   "metadata": {},
   "outputs": [
    {
     "data": {
      "text/html": [
       "<div>\n",
       "<style scoped>\n",
       "    .dataframe tbody tr th:only-of-type {\n",
       "        vertical-align: middle;\n",
       "    }\n",
       "\n",
       "    .dataframe tbody tr th {\n",
       "        vertical-align: top;\n",
       "    }\n",
       "\n",
       "    .dataframe thead th {\n",
       "        text-align: right;\n",
       "    }\n",
       "</style>\n",
       "<table border=\"1\" class=\"dataframe\">\n",
       "  <thead>\n",
       "    <tr style=\"text-align: right;\">\n",
       "      <th></th>\n",
       "      <th>id_estacion</th>\n",
       "      <th>n_viajes</th>\n",
       "    </tr>\n",
       "  </thead>\n",
       "  <tbody>\n",
       "    <tr>\n",
       "      <th>0</th>\n",
       "      <td>1.0</td>\n",
       "      <td>4</td>\n",
       "    </tr>\n",
       "    <tr>\n",
       "      <th>1</th>\n",
       "      <td>2.0</td>\n",
       "      <td>66</td>\n",
       "    </tr>\n",
       "    <tr>\n",
       "      <th>2</th>\n",
       "      <td>3.0</td>\n",
       "      <td>18</td>\n",
       "    </tr>\n",
       "    <tr>\n",
       "      <th>3</th>\n",
       "      <td>4.0</td>\n",
       "      <td>40</td>\n",
       "    </tr>\n",
       "    <tr>\n",
       "      <th>4</th>\n",
       "      <td>5.0</td>\n",
       "      <td>87</td>\n",
       "    </tr>\n",
       "    <tr>\n",
       "      <th>...</th>\n",
       "      <td>...</td>\n",
       "      <td>...</td>\n",
       "    </tr>\n",
       "    <tr>\n",
       "      <th>417</th>\n",
       "      <td>442.0</td>\n",
       "      <td>4</td>\n",
       "    </tr>\n",
       "    <tr>\n",
       "      <th>418</th>\n",
       "      <td>443.0</td>\n",
       "      <td>13</td>\n",
       "    </tr>\n",
       "    <tr>\n",
       "      <th>419</th>\n",
       "      <td>444.0</td>\n",
       "      <td>47</td>\n",
       "    </tr>\n",
       "    <tr>\n",
       "      <th>420</th>\n",
       "      <td>448.0</td>\n",
       "      <td>2</td>\n",
       "    </tr>\n",
       "    <tr>\n",
       "      <th>421</th>\n",
       "      <td>449.0</td>\n",
       "      <td>17</td>\n",
       "    </tr>\n",
       "  </tbody>\n",
       "</table>\n",
       "<p>422 rows × 2 columns</p>\n",
       "</div>"
      ],
      "text/plain": [
       "     id_estacion  n_viajes\n",
       "0            1.0         4\n",
       "1            2.0        66\n",
       "2            3.0        18\n",
       "3            4.0        40\n",
       "4            5.0        87\n",
       "..           ...       ...\n",
       "417        442.0         4\n",
       "418        443.0        13\n",
       "419        444.0        47\n",
       "420        448.0         2\n",
       "421        449.0        17\n",
       "\n",
       "[422 rows x 2 columns]"
      ]
     },
     "execution_count": 90,
     "metadata": {},
     "output_type": "execute_result"
    }
   ],
   "source": [
    "tabla"
   ]
  },
  {
   "cell_type": "code",
   "execution_count": 91,
   "metadata": {},
   "outputs": [
    {
     "data": {
      "text/html": [
       "<div>\n",
       "<style scoped>\n",
       "    .dataframe tbody tr th:only-of-type {\n",
       "        vertical-align: middle;\n",
       "    }\n",
       "\n",
       "    .dataframe tbody tr th {\n",
       "        vertical-align: top;\n",
       "    }\n",
       "\n",
       "    .dataframe thead th {\n",
       "        text-align: right;\n",
       "    }\n",
       "</style>\n",
       "<table border=\"1\" class=\"dataframe\">\n",
       "  <thead>\n",
       "    <tr style=\"text-align: right;\">\n",
       "      <th></th>\n",
       "      <th>lat</th>\n",
       "      <th>long</th>\n",
       "      <th>nombre_estacion</th>\n",
       "      <th>id_estacion</th>\n",
       "      <th>geometry</th>\n",
       "      <th>n_viajes</th>\n",
       "    </tr>\n",
       "  </thead>\n",
       "  <tbody>\n",
       "    <tr>\n",
       "      <th>0</th>\n",
       "      <td>-34.592423</td>\n",
       "      <td>-58.374715</td>\n",
       "      <td>002 - Retiro I</td>\n",
       "      <td>2</td>\n",
       "      <td>POINT (-58.37472 -34.59242)</td>\n",
       "      <td>66</td>\n",
       "    </tr>\n",
       "    <tr>\n",
       "      <th>1</th>\n",
       "      <td>-34.611032</td>\n",
       "      <td>-58.368260</td>\n",
       "      <td>003 - ADUANA</td>\n",
       "      <td>3</td>\n",
       "      <td>POINT (-58.36826 -34.61103)</td>\n",
       "      <td>18</td>\n",
       "    </tr>\n",
       "    <tr>\n",
       "      <th>2</th>\n",
       "      <td>-34.601726</td>\n",
       "      <td>-58.368763</td>\n",
       "      <td>004 - Plaza Roma</td>\n",
       "      <td>4</td>\n",
       "      <td>POINT (-58.36876 -34.60173)</td>\n",
       "      <td>40</td>\n",
       "    </tr>\n",
       "    <tr>\n",
       "      <th>3</th>\n",
       "      <td>-34.580550</td>\n",
       "      <td>-58.420954</td>\n",
       "      <td>005 - Plaza Italia</td>\n",
       "      <td>5</td>\n",
       "      <td>POINT (-58.42095 -34.58055)</td>\n",
       "      <td>87</td>\n",
       "    </tr>\n",
       "    <tr>\n",
       "      <th>4</th>\n",
       "      <td>-34.628526</td>\n",
       "      <td>-58.369758</td>\n",
       "      <td>006 - Parque Lezama</td>\n",
       "      <td>6</td>\n",
       "      <td>POINT (-58.36976 -34.62853)</td>\n",
       "      <td>75</td>\n",
       "    </tr>\n",
       "  </tbody>\n",
       "</table>\n",
       "</div>"
      ],
      "text/plain": [
       "         lat       long      nombre_estacion  id_estacion  \\\n",
       "0 -34.592423 -58.374715       002 - Retiro I            2   \n",
       "1 -34.611032 -58.368260         003 - ADUANA            3   \n",
       "2 -34.601726 -58.368763     004 - Plaza Roma            4   \n",
       "3 -34.580550 -58.420954   005 - Plaza Italia            5   \n",
       "4 -34.628526 -58.369758  006 - Parque Lezama            6   \n",
       "\n",
       "                      geometry  n_viajes  \n",
       "0  POINT (-58.37472 -34.59242)        66  \n",
       "1  POINT (-58.36826 -34.61103)        18  \n",
       "2  POINT (-58.36876 -34.60173)        40  \n",
       "3  POINT (-58.42095 -34.58055)        87  \n",
       "4  POINT (-58.36976 -34.62853)        75  "
      ]
     },
     "execution_count": 91,
     "metadata": {},
     "output_type": "execute_result"
    }
   ],
   "source": [
    "estaciones_geo = pd.merge(estaciones_geo, tabla,\n",
    "         on = 'id_estacion',\n",
    "         how = 'inner'\n",
    "        )\n",
    "estaciones_geo.head()"
   ]
  },
  {
   "cell_type": "code",
   "execution_count": 100,
   "metadata": {
    "scrolled": true
   },
   "outputs": [
    {
     "data": {
      "text/plain": [
       "<matplotlib.axes._subplots.AxesSubplot at 0x7f737a3899e8>"
      ]
     },
     "execution_count": 100,
     "metadata": {},
     "output_type": "execute_result"
    },
    {
     "data": {
      "image/png": "[encoded data removed]",
      "text/plain": [
       "<Figure size 432x432 with 1 Axes>"
      ]
     },
     "metadata": {
      "needs_background": "light"
     },
     "output_type": "display_data"
    }
   ],
   "source": [
    "fig = plt.figure(figsize=(6,6))\n",
    "ax = fig.add_subplot(1,1,1)\n",
    "estaciones_geo.plot(ax=ax,\n",
    "                   column = 'n_viajes',\n",
    "                   markersize = estaciones_geo.n_viajes * 3,\n",
    "                    alpha = 0.5)"
   ]
  },
  {
   "cell_type": "code",
   "execution_count": null,
   "metadata": {},
   "outputs": [],
   "source": [
    "#creamos un viaje agrupando por origen como destino, lo que nos da el par Origen-Destino de un viaje\n",
    "viajes = dt.reindex(columns = ['id_estacion_origen','id_estacion_destino','id_usuario'])\\\n",
    "                    .groupby(['id_estacion_origen','id_estacion_destino']).count().reset_index()\n",
    "viajes.columns = ['id_estacion_origen','id_estacion_destino','n']\n",
    "viajes.sort_values(by='n',ascending=False).head(3)"
   ]
  }
 ],
 "metadata": {
  "kernelspec": {
   "display_name": "untref",
   "language": "python",
   "name": "untref"
  },
  "language_info": {
   "codemirror_mode": {
    "name": "ipython",
    "version": 3
   },
   "file_extension": ".py",
   "mimetype": "text/x-python",
   "name": "python",
   "nbconvert_exporter": "python",
   "pygments_lexer": "ipython3",
   "version": "3.6.8"
  }
 },
 "nbformat": 4,
 "nbformat_minor": 2
}
