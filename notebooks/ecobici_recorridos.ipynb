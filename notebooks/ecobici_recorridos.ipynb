{
 "cells": [
  {
   "cell_type": "code",
   "execution_count": null,
   "metadata": {},
   "outputs": [],
   "source": [
    "import pandas as pd"
   ]
  },
  {
   "cell_type": "code",
   "execution_count": null,
   "metadata": {},
   "outputs": [],
   "source": [
    "dt = pd.read_csv('../data/recorridos-realizados-2019_muestra.csv')"
   ]
  },
  {
   "cell_type": "code",
   "execution_count": null,
   "metadata": {},
   "outputs": [],
   "source": [
    "dt.id_estacion_origen.str.replace('_','.')"
   ]
  },
  {
   "cell_type": "code",
   "execution_count": null,
   "metadata": {},
   "outputs": [],
   "source": [
    "#leemos los datos\n",
    "#dt = pd.read_csv('../data/recorridos-realizados-2019.csv',nrows=1000)\n",
    "#dt = pd.read_csv('../data/recorridos-realizados-2019.csv')\n",
    "dt['id_estacion_origen'] = pd.to_numeric(dt.id_estacion_origen\\\n",
    "                                     .str.replace('_','.'))\n",
    "dt['id_estacion_destino'] = pd.to_numeric(dt.id_estacion_destino\\\n",
    "                                     .str.replace('_','.'))\n",
    "dt.head()"
   ]
  },
  {
   "cell_type": "code",
   "execution_count": null,
   "metadata": {},
   "outputs": [],
   "source": []
  },
  {
   "cell_type": "code",
   "execution_count": null,
   "metadata": {},
   "outputs": [],
   "source": [
    "#obtenemos una tabla con cantidad de viajes por cada estacion de origen\n",
    "viajesXestacion = dt.reindex(columns = ['id_estacion_origen','id_usuario'])\\\n",
    "                    .groupby('id_estacion_origen').count().reset_index()\n",
    "viajesXestacion.columns = ['id_estacion_origen','n']\n",
    "viajesXestacion.sort_values(by='n',ascending=False).head(3)"
   ]
  },
  {
   "cell_type": "code",
   "execution_count": null,
   "metadata": {},
   "outputs": [],
   "source": [
    "#leemos el shape con los objetos geometricos de nuestras estaciones\n",
    "estaciones = pd.read_csv('../carto/estaciones-bicicletas.csv')\n",
    "estaciones = estaciones.reindex(columns = ['lat','long','nombre_estacion','id_estacion'])\n",
    "estaciones.head()"
   ]
  },
  {
   "cell_type": "code",
   "execution_count": null,
   "metadata": {},
   "outputs": [],
   "source": [
    "#importamos la funcion para crear puntos de la libreria de shapely\n",
    "from shapely.geometry import Point\n"
   ]
  },
  {
   "cell_type": "code",
   "execution_count": null,
   "metadata": {},
   "outputs": [],
   "source": [
    "#definimos una funcion que cree un Shapely Point a partir de un par de latlong\n",
    "def crear_punto(lat,long):\n",
    "    #noten como se invierte el orden tradicional de latlong, para ser long lat similar al orden matematico x,y\n",
    "    return Point(long,lat)"
   ]
  },
  {
   "cell_type": "code",
   "execution_count": null,
   "metadata": {},
   "outputs": [],
   "source": [
    "#probamos la funcion\n",
    "crear_punto(long = estaciones.iloc[0].long,\n",
    "            lat = estaciones.iloc[0].lat)"
   ]
  },
  {
   "cell_type": "code",
   "execution_count": null,
   "metadata": {},
   "outputs": [],
   "source": [
    "#iteramos a traves de todo nuestro dataset de estacoines y guardamos en una lista sus pares latlong como Points\n",
    "lista = []\n",
    "for i in estaciones.index:\n",
    "    punto = crear_punto(long = estaciones.loc[i].long,\n",
    "            lat = estaciones.loc[i].lat)\n",
    "    lista.append(punto)\n",
    "lista"
   ]
  },
  {
   "cell_type": "code",
   "execution_count": null,
   "metadata": {},
   "outputs": [],
   "source": [
    "#importamos geopandas\n",
    "import geopandas as gpd"
   ]
  },
  {
   "cell_type": "code",
   "execution_count": null,
   "metadata": {},
   "outputs": [],
   "source": [
    "#convertimos nuestro DataFrame de estaciones en un GeoDataFrame\n",
    "crs = {'init' :'epsg:4326'}\n",
    "gdf = gpd.GeoDataFrame(estaciones,\n",
    "                       geometry=lista,\n",
    "                       crs={'init' :'epsg:4326'})\n",
    "gdf.head()\n"
   ]
  },
  {
   "cell_type": "code",
   "execution_count": null,
   "metadata": {},
   "outputs": [],
   "source": [
    "type(gdf)"
   ]
  },
  {
   "cell_type": "code",
   "execution_count": null,
   "metadata": {},
   "outputs": [],
   "source": [
    "#importamos las librerias de visualizacion\n",
    "import matplotlib.pyplot as plt\n",
    "%matplotlib inline"
   ]
  },
  {
   "cell_type": "code",
   "execution_count": null,
   "metadata": {},
   "outputs": [],
   "source": [
    "#visualizamos nuestras estaciones\n",
    "gdf.plot()"
   ]
  },
  {
   "cell_type": "code",
   "execution_count": null,
   "metadata": {},
   "outputs": [],
   "source": [
    "#vemos que porcentajes de nuestras estaciones con viajes esta en nuestro shapefile\n",
    "viajesXestacion.id_estacion_origen.isin(estaciones.id_estacion).sum() / len(viajesXestacion)"
   ]
  },
  {
   "cell_type": "code",
   "execution_count": null,
   "metadata": {},
   "outputs": [],
   "source": [
    "#hacemos el merge en base a las columnas que actuan como clave\n",
    "gdf = gdf.merge(viajesXestacion,\n",
    "                              left_on = 'id_estacion',\n",
    "                              right_on = 'id_estacion_origen',\n",
    "                              how = 'inner'\n",
    "                             )"
   ]
  },
  {
   "cell_type": "code",
   "execution_count": null,
   "metadata": {},
   "outputs": [],
   "source": [
    "#creamos un plot que muestre el origen mas popular\n",
    "fig = plt.figure(figsize=(12,12))\n",
    "ax = fig.add_subplot(1,1,1)\n",
    "gdf.plot(ax=ax,column='n',\n",
    "                markersize=gdf['n']/100,\n",
    "                alpha=0.5,legend=True) \n",
    "ax.set_axis_off()\n",
    "plt.axis('equal')\n",
    "ax.set_title('Origen de viajes en Ecobici - 2019');"
   ]
  },
  {
   "cell_type": "code",
   "execution_count": null,
   "metadata": {},
   "outputs": [],
   "source": [
    "#creamos un viaje agrupando por origen como destino, lo que nos da el par Origen-Destino de un viaje\n",
    "viajes = dt.reindex(columns = ['id_estacion_origen','id_estacion_destino','id_usuario'])\\\n",
    "                    .groupby(['id_estacion_origen','id_estacion_destino']).count().reset_index()\n",
    "viajes.columns = ['id_estacion_origen','id_estacion_destino','n']\n",
    "viajes.sort_values(by='n',ascending=False).head(3)"
   ]
  },
  {
   "cell_type": "code",
   "execution_count": null,
   "metadata": {},
   "outputs": [],
   "source": [
    "#usamos como indice el indice verdadero\n",
    "estaciones.index = estaciones.id_estacion\n",
    "estaciones.head()"
   ]
  },
  {
   "cell_type": "code",
   "execution_count": null,
   "metadata": {},
   "outputs": [],
   "source": [
    "#importamos la funcion LineString\n",
    "from shapely.geometry import LineString"
   ]
  },
  {
   "cell_type": "code",
   "execution_count": null,
   "metadata": {},
   "outputs": [],
   "source": [
    "#nos quedamos solo con los viajes cuyas estacinoes tenemos en el shape\n",
    "viajes = viajes.loc[viajes.id_estacion_origen.isin(estaciones.index) &\n",
    "                    (viajes.id_estacion_destino.isin(estaciones.index)),:]"
   ]
  },
  {
   "cell_type": "code",
   "execution_count": null,
   "metadata": {
    "scrolled": false
   },
   "outputs": [],
   "source": [
    "#producimos una linea con el origen destino\n",
    "geometrias = []\n",
    "for indice,fila in viajes.iterrows():\n",
    "    \n",
    "    id_origen = fila.id_estacion_origen\n",
    "    id_destino = fila.id_estacion_destino \n",
    "    \n",
    "    punto_origen = [estaciones.loc[id_origen,'long'],\\\n",
    "                    estaciones.loc[id_origen,'lat']]\n",
    "    punto_destino = [estaciones.loc[id_destino,'long'],\\\n",
    "                     estaciones.loc[id_destino,'lat']]\n",
    "    \n",
    "    linea = LineString([punto_origen,punto_destino])\n",
    "    \n",
    "    geometrias.append(linea)"
   ]
  },
  {
   "cell_type": "code",
   "execution_count": null,
   "metadata": {},
   "outputs": [],
   "source": [
    "#convertimos nuestro dataFrame en un geoDataFrame\n",
    "viajes = gpd.GeoDataFrame(viajes,\n",
    "                          geometry  = geometrias,\n",
    "                          crs={'init' :'epsg:4326'})\n",
    "viajes.head()"
   ]
  },
  {
   "cell_type": "code",
   "execution_count": null,
   "metadata": {},
   "outputs": [],
   "source": [
    "estaciones=gpd.GeoDataFrame(estaciones,geometry='geometry',crs={'init' :'epsg:4326'})"
   ]
  },
  {
   "cell_type": "code",
   "execution_count": null,
   "metadata": {},
   "outputs": [],
   "source": [
    "comunas = gpd.read_file('../carto/CABA_comunas.geojson')\n",
    "comunas.crs"
   ]
  },
  {
   "cell_type": "code",
   "execution_count": null,
   "metadata": {},
   "outputs": [],
   "source": [
    "fig = plt.figure(figsize=(12,12))\n",
    "ax = fig.add_subplot(1,1,1)\n",
    "\n",
    "comunas.plot(ax=ax,alpha=0.3)\n",
    "estaciones.plot(ax=ax)\n",
    "viajes.plot(\n",
    "        ax=ax,\n",
    "        column = viajes['n'],\n",
    "        linewidth=viajes['n'],\n",
    "        alpha=0.3,\n",
    "        cmap='Blues',    \n",
    "        scheme='boxplot',\n",
    "        legend=True) \n",
    "    \n",
    "ax.set_axis_off()\n",
    "plt.axis('equal')\n",
    "ax.set_title('Viajes en Ecobici - 2019');"
   ]
  },
  {
   "cell_type": "code",
   "execution_count": null,
   "metadata": {},
   "outputs": [],
   "source": [
    "viajes.to_file('../carto/ecobici')"
   ]
  },
  {
   "cell_type": "code",
   "execution_count": null,
   "metadata": {},
   "outputs": [],
   "source": []
  }
 ],
 "metadata": {
  "kernelspec": {
   "display_name": "sube_od",
   "language": "python",
   "name": "sube_od"
  },
  "language_info": {
   "codemirror_mode": {
    "name": "ipython",
    "version": 3
   },
   "file_extension": ".py",
   "mimetype": "text/x-python",
   "name": "python",
   "nbconvert_exporter": "python",
   "pygments_lexer": "ipython3",
   "version": "3.7.6"
  }
 },
 "nbformat": 4,
 "nbformat_minor": 2
}
